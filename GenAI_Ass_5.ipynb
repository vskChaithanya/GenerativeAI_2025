{
  "nbformat": 4,
  "nbformat_minor": 0,
  "metadata": {
    "colab": {
      "provenance": [],
      "authorship_tag": "ABX9TyMoE5/vRa1c1ILa0aqya4Y1",
      "include_colab_link": true
    },
    "kernelspec": {
      "name": "python3",
      "display_name": "Python 3"
    },
    "language_info": {
      "name": "python"
    }
  },
  "cells": [
    {
      "cell_type": "markdown",
      "metadata": {
        "id": "view-in-github",
        "colab_type": "text"
      },
      "source": [
        "<a href=\"https://colab.research.google.com/github/vskChaithanya/GenerativeAI_2025/blob/main/GenAI_Ass_5.ipynb\" target=\"_parent\"><img src=\"https://colab.research.google.com/assets/colab-badge.svg\" alt=\"Open In Colab\"/></a>"
      ]
    },
    {
      "cell_type": "code",
      "execution_count": 1,
      "metadata": {
        "colab": {
          "base_uri": "https://localhost:8080/"
        },
        "id": "7ZpcEpPQ2cHC",
        "outputId": "d4d14b05-59ee-4695-b93c-bb46fe5e4d0c"
      },
      "outputs": [
        {
          "output_type": "stream",
          "name": "stdout",
          "text": [
            "Epoch 0, Loss: 3.756072\n",
            "Epoch 1000, Loss: 0.000055\n",
            "Epoch 2000, Loss: 0.000016\n",
            "Epoch 3000, Loss: 0.000012\n",
            "Epoch 4000, Loss: 0.000009\n",
            "Epoch 5000, Loss: 0.000007\n",
            "Epoch 6000, Loss: 0.000005\n",
            "Epoch 7000, Loss: 0.000004\n",
            "Epoch 8000, Loss: 0.000003\n",
            "Epoch 9000, Loss: 0.000003\n",
            "\n",
            "Training MSE: 0.000003\n",
            "Testing MSE: 13962803.750885\n",
            "\n",
            "Enter values for x1 and x2: 3 4\n",
            "Predicted Output: 0.500593\n"
          ]
        }
      ],
      "source": [
        "import numpy as np\n",
        "def sigmoid(x):\n",
        "    return 1 / (1 + np.exp(-x))\n",
        "def sigmoid_derivative(x):\n",
        "    return x * (1 - x)\n",
        "def mse(y_true, y_pred):\n",
        "    return np.mean((y_true - y_pred) ** 2)\n",
        "X_train = np.array([[1,2], [2,3], [5,6], [6,7], [7,8], [8,9]])\n",
        "y_train = np.array([[0.4140], [0.4611], [0.5501], [0.5656], [0.5765], [0.5840]])\n",
        "X_test = np.array([[3,4], [4,5]])\n",
        "y_test = np.array([[0.4992], [5285]])\n",
        "np.random.seed(42)\n",
        "input_neurons = 2    # Input layer (x1, x2)\n",
        "hidden_neurons = 3   # Hidden layer neurons\n",
        "output_neurons = 1   # Output layer neuron\n",
        "W1 = np.random.rand(input_neurons, hidden_neurons)\n",
        "b1 = np.random.rand(1, hidden_neurons)\n",
        "W2 = np.random.rand(hidden_neurons, output_neurons)\n",
        "b2 = np.random.rand(1, output_neurons)\n",
        "epochs = 10000\n",
        "learning_rate = 0.01\n",
        "for epoch in range(epochs):\n",
        "    Z1 = np.dot(X_train, W1) + b1\n",
        "    A1 = sigmoid(Z1)  # Hidden layer activation\n",
        "    Z2 = np.dot(A1, W2) + b2  # Output layer linear activation\n",
        "    error = y_train - Z2\n",
        "    loss = mse(y_train, Z2)\n",
        "    # Backpropagation\n",
        "    dZ2 = -2 * (y_train - Z2)  # Derivative of MSE for output layer\n",
        "    dW2 = np.dot(A1.T, dZ2)\n",
        "    db2 = np.sum(dZ2, axis=0, keepdims=True)\n",
        "    dA1 = np.dot(dZ2, W2.T)\n",
        "    dZ1 = dA1 * sigmoid_derivative(A1)\n",
        "    dW1 = np.dot(X_train.T, dZ1)\n",
        "    db1 = np.sum(dZ1, axis=0, keepdims=True)\n",
        "    W1 -= learning_rate * dW1\n",
        "    b1 -= learning_rate * db1\n",
        "    W2 -= learning_rate * dW2\n",
        "    b2 -= learning_rate * db2\n",
        "    if epoch % 1000 == 0:\n",
        "        print(f\"Epoch {epoch}, Loss: {loss:.6f}\")\n",
        "def predict(X):\n",
        "    Z1 = np.dot(X, W1) + b1\n",
        "    A1 = sigmoid(Z1)\n",
        "    Z2 = np.dot(A1, W2) + b2\n",
        "    return Z2\n",
        "y_train_pred = predict(X_train)\n",
        "y_test_pred = predict(X_test)\n",
        "train_mse = mse(y_train, y_train_pred)\n",
        "test_mse = mse(y_test, y_test_pred)\n",
        "print(f\"\\nTraining MSE: {train_mse:.6f}\")\n",
        "print(f\"Testing MSE: {test_mse:.6f}\")\n",
        "x1, x2 = map(float, input(\"\\nEnter values for x1 and x2: \").split())\n",
        "user_input = np.array([[x1, x2]])\n",
        "prediction = predict(user_input)\n",
        "print(f\"Predicted Output: {prediction[0,0]:.6f}\")"
      ]
    }
  ]
}