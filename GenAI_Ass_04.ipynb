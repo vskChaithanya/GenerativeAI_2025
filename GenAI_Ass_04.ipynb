{
  "nbformat": 4,
  "nbformat_minor": 0,
  "metadata": {
    "colab": {
      "provenance": [],
      "authorship_tag": "ABX9TyP/K98JRTAPlmltg9KG92XZ",
      "include_colab_link": true
    },
    "kernelspec": {
      "name": "python3",
      "display_name": "Python 3"
    },
    "language_info": {
      "name": "python"
    }
  },
  "cells": [
    {
      "cell_type": "markdown",
      "metadata": {
        "id": "view-in-github",
        "colab_type": "text"
      },
      "source": [
        "<a href=\"https://colab.research.google.com/github/vskChaithanya/GenerativeAI_2025/blob/main/GenAI_Ass_04.ipynb\" target=\"_parent\"><img src=\"https://colab.research.google.com/assets/colab-badge.svg\" alt=\"Open In Colab\"/></a>"
      ]
    },
    {
      "cell_type": "code",
      "source": [
        "import numpy as np\n",
        "def sigmoid(x):\n",
        "    return 1 / (1 + np.exp(-x))\n",
        "def sigmoid_derivative(x):\n",
        "    return x * (1 - x)\n",
        "def mse(y_true, y_pred):\n",
        "    return np.mean((y_true - y_pred) ** 2)\n",
        "x_train = np.array([\n",
        "    [0.1, 0.2, 0.3],\n",
        "    [0.2, 0.3, 0.4],\n",
        "    [0.3, 0.4, 0.5],\n",
        "    [0.5, 0.6, 0.7],\n",
        "    [0.1, 0.3, 0.5],\n",
        "    [0.2, 0.4, 0.6],\n",
        "    [0.3, 0.5, 0.7],\n",
        "    [0.4, 0.6, 0.8],\n",
        "    [0.5, 0.7, 0.1]\n",
        "])\n",
        "y_train = np.array([[0.14], [0.20], [0.26], [0.38], [0.22], [0.28], [0.34], [0.40], [0.22]])\n",
        "x_test = np.array([\n",
        "    [0.6, 0.7, 0.8],\n",
        "    [0.7, 0.8, 0.9]\n",
        "])\n",
        "y_test = np.array([[0.44], [0.50]])\n",
        "np.random.seed(42)\n",
        "n_inputs = x_train.shape[1]\n",
        "n_hidden = 4\n",
        "n_outputs = 1\n",
        "W1 = np.random.randn(n_inputs, n_hidden)\n",
        "b1 = np.random.randn(n_hidden)\n",
        "W2 = np.random.randn(n_hidden, n_outputs)\n",
        "b2 = np.random.randn(n_outputs)\n",
        "learning_rate = 0.1\n",
        "epochs = 10000\n",
        "for epoch in range(epochs):\n",
        "    hidden_layer_input = np.dot(x_train, W1) + b1\n",
        "    hidden_layer_output = sigmoid(hidden_layer_input)\n",
        "    output_layer_input = np.dot(hidden_layer_output, W2) + b2\n",
        "    y_pred = sigmoid(output_layer_input)\n",
        "    error = y_train - y_pred\n",
        "    d_output = error * sigmoid_derivative(y_pred)\n",
        "    d_hidden = np.dot(d_output, W2.T) * sigmoid_derivative(hidden_layer_output)\n",
        "    W2 += np.dot(hidden_layer_output.T, d_output) * learning_rate\n",
        "    b2 += np.sum(d_output, axis=0) * learning_rate\n",
        "    W1 += np.dot(x_train.T, d_hidden) * learning_rate\n",
        "    b1 += np.sum(d_hidden, axis=0) * learning_rate\n",
        "    if epoch % 1000 == 0:\n",
        "        print(f\"Epoch {epoch}, MSE: {mse(y_train, y_pred)}\")\n",
        "y_train_pred = sigmoid(np.dot(sigmoid(np.dot(x_train, W1) + b1), W2) + b2)\n",
        "y_test_pred = sigmoid(np.dot(sigmoid(np.dot(x_test, W1) + b1), W2) + b2)\n",
        "print(\"Final Training MSE:\", mse(y_train, y_train_pred))\n",
        "print(\"Final Testing MSE:\", mse(y_test, y_test_pred))\n",
        "x_input = np.array([list(map(float, input(\"Enter values for x1, x2, x3 separated by space: \").split()))])\n",
        "y_input_pred = sigmoid(np.dot(sigmoid(np.dot(x_input, W1) + b1), W2) + b2)\n",
        "print(\"Predicted Output:\", y_input_pred[0][0])"
      ],
      "metadata": {
        "colab": {
          "base_uri": "https://localhost:8080/"
        },
        "id": "QIIjxI1q512h",
        "outputId": "e2fe98bb-5de2-4e87-a127-05983ff89e77"
      },
      "execution_count": null,
      "outputs": [
        {
          "output_type": "stream",
          "name": "stdout",
          "text": [
            "Epoch 0, MSE: 0.07074393807202685\n",
            "Epoch 1000, MSE: 0.0033939108186680244\n",
            "Epoch 2000, MSE: 0.0008263470597302336\n",
            "Epoch 3000, MSE: 0.00017827990277910163\n",
            "Epoch 4000, MSE: 4.4837647572482004e-05\n",
            "Epoch 5000, MSE: 1.952696614528954e-05\n",
            "Epoch 6000, MSE: 1.4405036424620929e-05\n",
            "Epoch 7000, MSE: 1.294364710982312e-05\n",
            "Epoch 8000, MSE: 1.2178404388043618e-05\n",
            "Epoch 9000, MSE: 1.1581017088159461e-05\n",
            "Final Training MSE: 1.1054740713862296e-05\n",
            "Final Testing MSE: 0.00041083463448165374\n",
            "Enter values for x1, x2, x3 separated by space: 0.6 0.7 0.8\n",
            "Predicted Output: 0.43122020927652516\n"
          ]
        }
      ]
    },
    {
      "cell_type": "code",
      "source": [
        "import numpy as np\n",
        "def sigmoid(x):\n",
        "    return 1 / (1 + np.exp(-x))\n",
        "def sigmoid_derivative(x):\n",
        "    return x * (1 - x)\n",
        "def mse(y_true, y_pred):\n",
        "    return np.mean((y_true - y_pred) ** 2)\n",
        "x_train = np.array([\n",
        "    [0.1, 0.2, 0.3],\n",
        "    [0.2, 0.3, 0.4],\n",
        "    [0.3, 0.4, 0.5],\n",
        "    [0.5, 0.6, 0.7],\n",
        "    [0.1, 0.3, 0.5],\n",
        "    [0.2, 0.4, 0.6],\n",
        "    [0.3, 0.5, 0.7],\n",
        "    [0.4, 0.6, 0.8],\n",
        "    [0.5, 0.7, 0.1]\n",
        "])\n",
        "y_train = np.array([[0.5349], [0.5498], [0.5646], [0.5939], [0.5548], [0.5695], [0.5842], [0.5987], [0.5548]])\n",
        "x_test = np.array([\n",
        "    [0.6, 0.7, 0.8],\n",
        "    [0.7, 0.8, 0.9]\n",
        "])\n",
        "y_test = np.array([[0.6083], [0.6225]])\n",
        "np.random.seed(42)\n",
        "n_inputs = x_train.shape[1]\n",
        "n_outputs = 1\n",
        "W = np.random.randn(n_inputs, n_outputs)\n",
        "b = np.random.randn(n_outputs)\n",
        "learning_rate = 0.1\n",
        "epochs = 10000\n",
        "for epoch in range(epochs):\n",
        "    output_layer_input = np.dot(x_train, W) + b\n",
        "    y_pred = sigmoid(output_layer_input)\n",
        "    error = y_train - y_pred\n",
        "    d_output = error * sigmoid_derivative(y_pred)\n",
        "    W += np.dot(x_train.T, d_output) * learning_rate\n",
        "    b += np.sum(d_output, axis=0) * learning_rate\n",
        "    if epoch % 1000 == 0:\n",
        "        print(f\"Epoch {epoch}, MSE: {mse(y_train, y_pred)}\")\n",
        "y_train_pred = sigmoid(np.dot(x_train, W) + b)\n",
        "y_test_pred = sigmoid(np.dot(x_test, W) + b)\n",
        "print(\"Final Training MSE:\", mse(y_train, y_train_pred))\n",
        "print(\"Final Testing MSE:\", mse(y_test, y_test_pred))\n",
        "x_input = np.array([list(map(float, input(\"Enter values for x1, x2, x3 separated by space: \").split()))])\n",
        "y_input_pred = sigmoid(np.dot(x_input, W) + b)\n",
        "print(\"Predicted Output:\", y_input_pred[0][0])"
      ],
      "metadata": {
        "colab": {
          "base_uri": "https://localhost:8080/"
        },
        "id": "JKWNyahtCdaX",
        "outputId": "ccb06b34-cdae-418b-aaf5-d65ab73b1f8d"
      },
      "execution_count": null,
      "outputs": [
        {
          "output_type": "stream",
          "name": "stdout",
          "text": [
            "Epoch 0, MSE: 0.09353999577880288\n",
            "Epoch 1000, MSE: 5.544934596807592e-05\n",
            "Epoch 2000, MSE: 2.3131250900065538e-05\n",
            "Epoch 3000, MSE: 1.971958459615244e-05\n",
            "Epoch 4000, MSE: 1.7440837893454712e-05\n",
            "Epoch 5000, MSE: 1.5444969673883977e-05\n",
            "Epoch 6000, MSE: 1.367788366527421e-05\n",
            "Epoch 7000, MSE: 1.2112805178661574e-05\n",
            "Epoch 8000, MSE: 1.0726656840344804e-05\n",
            "Epoch 9000, MSE: 9.499009334937893e-06\n",
            "Final Training MSE: 8.411761505499611e-06\n",
            "Final Testing MSE: 2.933716127934951e-05\n",
            "Enter values for x1, x2, x3 separated by space: 0.6 0.7 0.8\n",
            "Predicted Output: 0.6134201942020245\n"
          ]
        }
      ]
    }
  ]
}