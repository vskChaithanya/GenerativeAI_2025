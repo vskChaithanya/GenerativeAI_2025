{
  "nbformat": 4,
  "nbformat_minor": 0,
  "metadata": {
    "colab": {
      "provenance": []
    },
    "kernelspec": {
      "name": "python3",
      "display_name": "Python 3"
    },
    "language_info": {
      "name": "python"
    }
  },
  "cells": [
    {
      "cell_type": "code",
      "execution_count": 112,
      "metadata": {
        "id": "OJznSYs_j2OK"
      },
      "outputs": [],
      "source": [
        "import numpy as np\n",
        "from sklearn.metrics import mean_squared_error, mean_absolute_error, r2_score"
      ]
    },
    {
      "cell_type": "markdown",
      "source": [
        "#Question 1\n"
      ],
      "metadata": {
        "id": "kJfgIqGYpPi2"
      }
    },
    {
      "cell_type": "code",
      "source": [
        "y_actual=np.array([20,30,40,50,60])\n",
        "y_pred=np.array([20.5,30.3,40.2,50.6,60.7])"
      ],
      "metadata": {
        "id": "8C74DarIv9J8"
      },
      "execution_count": 113,
      "outputs": []
    },
    {
      "cell_type": "markdown",
      "source": [
        "#with libraries"
      ],
      "metadata": {
        "id": "BPzHgz6Dy9yG"
      }
    },
    {
      "cell_type": "code",
      "source": [
        "mae = np.mean(np.abs(y_actual- y_pred))\n",
        "print(f\"Mean Absolute Error (MAE): {mae}\")\n",
        "mse = np.mean((y_actual - y_pred) ** 2)\n",
        "print(f\"Mean Squared Error (MSE): {mse}\")\n",
        "rmse = np.sqrt(mse)\n",
        "print(f\"Root Mean Square Error (RMSE): {rmse}\")\n",
        "mape = np.mean(np.abs((y_actual - y_pred) / y_actual)) * 100\n",
        "print(f\"Mean Absolute Percentage Error (MAPE): {mape}\")\n",
        "r2 = r2_score(y_act, y_pred)\n",
        "print(f\"R-squared (R2): {r2}\")"
      ],
      "metadata": {
        "colab": {
          "base_uri": "https://localhost:8080/"
        },
        "id": "v-1rmWquy866",
        "outputId": "cf90ddce-8e99-4e3d-cfb6-d9681650d5fd"
      },
      "execution_count": 115,
      "outputs": [
        {
          "output_type": "stream",
          "name": "stdout",
          "text": [
            "Mean Absolute Error (MAE): 0.4600000000000016\n",
            "Mean Squared Error (MSE): 0.24600000000000147\n",
            "Root Mean Square Error (RMSE): 0.49598387070549127\n",
            "Mean Absolute Percentage Error (MAPE): 1.273333333333337\n",
            "R-squared (R2): 0.99877\n"
          ]
        }
      ]
    },
    {
      "cell_type": "markdown",
      "source": [
        "#Question 2"
      ],
      "metadata": {
        "id": "cbmz9CFpxNGp"
      }
    },
    {
      "cell_type": "code",
      "source": [
        "y_actual1=np.array([0,0,0,0,0])\n",
        "y_pred1=np.array([0,0,1,2,2])"
      ],
      "metadata": {
        "id": "t8G9NKAZxIFz"
      },
      "execution_count": 116,
      "outputs": []
    },
    {
      "cell_type": "markdown",
      "source": [
        "# with libraries"
      ],
      "metadata": {
        "id": "kajaF5zTxYTD"
      }
    },
    {
      "cell_type": "code",
      "source": [
        "mse1 = mean_squared_error(y_actual1, y_pred1)\n",
        "print(f\"Mean Squared Error (MSE): {mse1}\")\n",
        "mae1 = mean_absolute_error(y_actual1, y_pred1)\n",
        "print(f\"Mean Absolute Error (MAE): {mae1}\")\n",
        "rmse1 = np.sqrt(mse1)\n",
        "print(f\"Root Mean Square Error (RMSE): {rmse1}\")\n",
        "r2_1 = r2_score(y_act1, y_pred1)\n",
        "print(f\"R-squared (R2): {r2_1}\")"
      ],
      "metadata": {
        "colab": {
          "base_uri": "https://localhost:8080/"
        },
        "id": "TUAXsWGCxImZ",
        "outputId": "7ef48eac-c162-44ac-d4bc-979b83d8a4ad"
      },
      "execution_count": 111,
      "outputs": [
        {
          "output_type": "stream",
          "name": "stdout",
          "text": [
            "Mean Squared Error (MSE): 1.8\n",
            "Mean Absolute Error (MAE): 1.0\n",
            "Root Mean Square Error (RMSE): 1.3416407864998738\n",
            "R-squared (R2): 0.0\n"
          ]
        }
      ]
    }
  ]
}